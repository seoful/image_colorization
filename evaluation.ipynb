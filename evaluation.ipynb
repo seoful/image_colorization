{
 "cells": [
  {
   "cell_type": "code",
   "execution_count": 1,
   "metadata": {},
   "outputs": [],
   "source": [
    "import cv2\n",
    "import numpy as np\n",
    "import colour\n",
    "from visualize_model import visualize\n",
    "import model_predict as mdl\n",
    "import torch\n",
    "import glob\n",
    "from dataset import make_lab_dataloaders, make_oklab_dataloaders\n",
    "from color_spaces import lab_to_rgb\n",
    "import tqdm.notebook as tqdm"
   ]
  },
  {
   "cell_type": "code",
   "execution_count": 2,
   "metadata": {},
   "outputs": [],
   "source": [
    "torch.manual_seed(42)\n",
    "np.random.seed(42)"
   ]
  },
  {
   "cell_type": "code",
   "execution_count": 3,
   "metadata": {},
   "outputs": [],
   "source": [
    "VAL_SIZE = 0.2\n",
    "TEST_SIZE = 0.2\n",
    "BATCH_SIZE = 16"
   ]
  },
  {
   "cell_type": "code",
   "execution_count": 4,
   "metadata": {},
   "outputs": [
    {
     "name": "stdout",
     "output_type": "stream",
     "text": [
      "5904 1968 1968\n"
     ]
    }
   ],
   "source": [
    "from sklearn.model_selection import train_test_split\n",
    "\n",
    "def get_test():\n",
    "    paths = glob.glob(\"dataset/*.jpg\") # Your path for your dataset\n",
    "    paths_subset = np.random.choice(paths, len(paths), replace=False) # choosing 1000 images randomly\n",
    "\n",
    "    train_paths, test_paths = train_test_split(paths_subset,test_size=TEST_SIZE,shuffle=True)\n",
    "    train_paths, val_paths = train_test_split(train_paths,test_size=VAL_SIZE / (1- TEST_SIZE),shuffle=True)\n",
    "\n",
    "    print(len(train_paths), len(val_paths), len(test_paths))\n",
    "    \n",
    "    test_dl = make_oklab_dataloaders(BATCH_SIZE,paths=test_paths, split='test')\n",
    "    return test_dl\n",
    "\n",
    "test_dl = get_test()"
   ]
  },
  {
   "cell_type": "code",
   "execution_count": 5,
   "metadata": {},
   "outputs": [],
   "source": [
    "device = torch.device(\"cuda\" if torch.cuda.is_available() else \"cpu\")"
   ]
  },
  {
   "cell_type": "code",
   "execution_count": 6,
   "metadata": {},
   "outputs": [],
   "source": [
    "def delta_e(pair):\n",
    "    predicted, target = pair\n",
    "    predicted_lab = cv2.cvtColor(predicted, cv2.COLOR_RGB2Lab)\n",
    "    target_lab = cv2.cvtColor(target, cv2.COLOR_RGB2Lab)\n",
    "    delta_E = colour.delta_E(predicted_lab, target_lab)\n",
    "    return np.mean(delta_E)"
   ]
  },
  {
   "cell_type": "code",
   "execution_count": 7,
   "metadata": {},
   "outputs": [],
   "source": [
    "def psnr(pair):\n",
    "    predicted, target = pair\n",
    "    predicted_lab = cv2.cvtColor(predicted, cv2.COLOR_RGB2Lab)\n",
    "    target_lab = cv2.cvtColor(target, cv2.COLOR_RGB2Lab)\n",
    "    return cv2.PSNR(predicted_lab, target_lab)"
   ]
  },
  {
   "cell_type": "code",
   "execution_count": 8,
   "metadata": {},
   "outputs": [],
   "source": [
    "def visual_eval(model, test_dl):\n",
    "    data = next(iter(test_dl))\n",
    "    visualize(model, data, save=True)"
   ]
  },
  {
   "cell_type": "code",
   "execution_count": 9,
   "metadata": {},
   "outputs": [
    {
     "name": "stdout",
     "output_type": "stream",
     "text": [
      "model initialized with norm initialization\n"
     ]
    }
   ],
   "source": [
    "def get_model(path):\n",
    "    model = mdl.MainModel(net_G=mdl.build_res_unet(n_input=1, n_output=2, size=256))\n",
    "    model.load_state_dict(torch.load(path, map_location=device))\n",
    "    return model\n",
    "model = get_model('models/oklab/res_net_unet_gan.pt')"
   ]
  },
  {
   "cell_type": "code",
   "execution_count": 10,
   "metadata": {},
   "outputs": [],
   "source": [
    "def calculate_metrics(path):\n",
    "    test_dl = get_test()\n",
    "    model = get_model(path)\n",
    "\n",
    "    true_batches, pred_batches = [], []\n",
    "    for data in tqdm.tqdm(test_dl):\n",
    "        preds = mdl.colorize(model, data['L'])\n",
    "        \n",
    "        true_batches.append(data)\n",
    "        pred_batches.append(preds)\n",
    "\n",
    "    psnr_results, delta_e_results = [], []\n",
    "    for i, true_batch in enumerate(true_batches):\n",
    "        pred_batch = pred_batches[i]\n",
    "        true_batch = lab_to_rgb(true_batch[\"L\"], true_batch[\"ab\"], space=\"Lab\")\n",
    "\n",
    "        pairs = list(zip(pred_batch, true_batch))\n",
    "\n",
    "        psnr_results.extend(list(map(psnr, pairs.copy())))\n",
    "        delta_e_results.extend(list(map(delta_e, pairs.copy())))\n",
    "\n",
    "    return np.mean(psnr_results), np.mean(delta_e_results)"
   ]
  },
  {
   "cell_type": "code",
   "execution_count": 11,
   "metadata": {},
   "outputs": [
    {
     "name": "stdout",
     "output_type": "stream",
     "text": [
      "5904 1968 1968\n",
      "model initialized with norm initialization\n"
     ]
    },
    {
     "data": {
      "application/vnd.jupyter.widget-view+json": {
       "model_id": "8c0356853b804f6ca3ed35fe9b669f6f",
       "version_major": 2,
       "version_minor": 0
      },
      "text/plain": [
       "  0%|          | 0/123 [00:00<?, ?it/s]"
      ]
     },
     "metadata": {},
     "output_type": "display_data"
    },
    {
     "data": {
      "text/plain": [
       "(38.698163104637246, 4.5642122413832045)"
      ]
     },
     "execution_count": 11,
     "metadata": {},
     "output_type": "execute_result"
    }
   ],
   "source": [
    "psnr_results_oklab, delta_e_results_oklab = calculate_metrics('models/oklab/res_net_unet_gan.pt')\n",
    "psnr_results_oklab, delta_e_results_oklab"
   ]
  },
  {
   "cell_type": "code",
   "execution_count": 12,
   "metadata": {},
   "outputs": [
    {
     "name": "stdout",
     "output_type": "stream",
     "text": [
      "5904 1968 1968\n",
      "model initialized with norm initialization\n"
     ]
    },
    {
     "data": {
      "application/vnd.jupyter.widget-view+json": {
       "model_id": "89bcde73b9894337ae6bfe937a509cfd",
       "version_major": 2,
       "version_minor": 0
      },
      "text/plain": [
       "  0%|          | 0/123 [00:00<?, ?it/s]"
      ]
     },
     "metadata": {},
     "output_type": "display_data"
    },
    {
     "data": {
      "text/plain": [
       "(32.429419575599375, 7.8789199569279749)"
      ]
     },
     "execution_count": 12,
     "metadata": {},
     "output_type": "execute_result"
    }
   ],
   "source": [
    "psnr_results_lab, delta_e_results_lab = calculate_metrics('models/lab/res_net_unet_gan.pt')\n",
    "psnr_results_lab, delta_e_results_lab"
   ]
  },
  {
   "cell_type": "code",
   "execution_count": null,
   "metadata": {},
   "outputs": [],
   "source": []
  }
 ],
 "metadata": {
  "kernelspec": {
   "display_name": "Python 3",
   "language": "python",
   "name": "python3"
  },
  "language_info": {
   "codemirror_mode": {
    "name": "ipython",
    "version": 3
   },
   "file_extension": ".py",
   "mimetype": "text/x-python",
   "name": "python",
   "nbconvert_exporter": "python",
   "pygments_lexer": "ipython3",
   "version": "3.11.6"
  }
 },
 "nbformat": 4,
 "nbformat_minor": 2
}
