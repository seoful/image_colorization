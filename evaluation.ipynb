{
 "cells": [
  {
   "cell_type": "code",
   "execution_count": 32,
   "metadata": {},
   "outputs": [],
   "source": [
    "import cv2\n",
    "import numpy as np\n",
    "import colour\n",
    "from visualize_model import visualize\n",
    "import model_predict as mdl\n",
    "import torch\n",
    "import glob\n",
    "from dataset import make_dataloaders\n",
    "import tqdm.notebook as tqdm"
   ]
  },
  {
   "cell_type": "code",
   "execution_count": 33,
   "metadata": {},
   "outputs": [],
   "source": [
    "torch.manual_seed(42)\n",
    "np.random.seed(42)"
   ]
  },
  {
   "cell_type": "code",
   "execution_count": 34,
   "metadata": {},
   "outputs": [],
   "source": [
    "VAL_SIZE = 0.2\n",
    "TEST_SIZE = 0.2\n",
    "BATCH_SIZE = 16"
   ]
  },
  {
   "cell_type": "code",
   "execution_count": 35,
   "metadata": {},
   "outputs": [
    {
     "name": "stdout",
     "output_type": "stream",
     "text": [
      "3000 1000 1000\n"
     ]
    }
   ],
   "source": [
    "from sklearn.model_selection import train_test_split\n",
    "\n",
    "paths = glob.glob(\"dataset/*.jpg\") # Your path for your dataset\n",
    "paths_subset = np.random.choice(paths, 5000, replace=False) # choosing 1000 images randomly\n",
    "\n",
    "train_paths, test_paths = train_test_split(paths_subset,test_size=TEST_SIZE,shuffle=True)\n",
    "train_paths, val_paths = train_test_split(train_paths,test_size=VAL_SIZE / (1- TEST_SIZE),shuffle=True)\n",
    "\n",
    "print(len(train_paths), len(val_paths), len(test_paths))"
   ]
  },
  {
   "cell_type": "code",
   "execution_count": 36,
   "metadata": {},
   "outputs": [],
   "source": [
    "device = torch.device(\"cuda\" if torch.cuda.is_available() else \"cpu\")"
   ]
  },
  {
   "cell_type": "code",
   "execution_count": 37,
   "metadata": {},
   "outputs": [],
   "source": [
    "test_dl = make_dataloaders(BATCH_SIZE,paths=test_paths, split='test')"
   ]
  },
  {
   "cell_type": "code",
   "execution_count": 38,
   "metadata": {},
   "outputs": [],
   "source": [
    "def delta_e(predicted, target):\n",
    "    predicted_lab = cv2.cvtColor(predicted, cv2.COLOR_RGB2Lab)\n",
    "    target_lab = cv2.cvtColor(target, cv2.COLOR_RGB2Lab)\n",
    "    delta_E = colour.delta_E(predicted_lab, target_lab)\n",
    "    return np.mean(delta_E)"
   ]
  },
  {
   "cell_type": "code",
   "execution_count": 39,
   "metadata": {},
   "outputs": [],
   "source": [
    "def psnr(predicted, target):\n",
    "    predicted_lab = cv2.cvtColor(predicted, cv2.COLOR_RGB2Lab)\n",
    "    target_lab = cv2.cvtColor(target, cv2.COLOR_RGB2Lab)\n",
    "    return cv2.PSNR(predicted_lab, target_lab)"
   ]
  },
  {
   "cell_type": "code",
   "execution_count": 40,
   "metadata": {},
   "outputs": [],
   "source": [
    "def visual_eval(model, test_dl):\n",
    "    data = next(iter(test_dl))\n",
    "    visualize(model, data, save=True)"
   ]
  },
  {
   "cell_type": "code",
   "execution_count": 41,
   "metadata": {},
   "outputs": [
    {
     "name": "stdout",
     "output_type": "stream",
     "text": [
      "model initialized with norm initialization\n"
     ]
    },
    {
     "data": {
      "text/plain": [
       "<All keys matched successfully>"
      ]
     },
     "execution_count": 41,
     "metadata": {},
     "output_type": "execute_result"
    }
   ],
   "source": [
    "model = mdl.MainModel(net_G=mdl.build_res_unet(n_input=1, n_output=2, size=256))\n",
    "model.load_state_dict(torch.load('models/res_net_unet_gan.pt', map_location=device))"
   ]
  },
  {
   "cell_type": "code",
   "execution_count": 42,
   "metadata": {},
   "outputs": [],
   "source": [
    "def calculate_metrics():\n",
    "    for data in tqdm.tqdm(test_dl):\n",
    "        preds = mdl.colorize(model, data['L'])\n",
    "        print(preds.shape)\n",
    "        # ... DO stuff for one batch\n",
    "    # Calculate metrics "
   ]
  },
  {
   "cell_type": "code",
   "execution_count": null,
   "metadata": {},
   "outputs": [],
   "source": [
    "calculate_metrics()\n",
    "calculate_metrics()"
   ]
  }
 ],
 "metadata": {
  "kernelspec": {
   "display_name": "Python 3",
   "language": "python",
   "name": "python3"
  },
  "language_info": {
   "codemirror_mode": {
    "name": "ipython",
    "version": 3
   },
   "file_extension": ".py",
   "mimetype": "text/x-python",
   "name": "python",
   "nbconvert_exporter": "python",
   "pygments_lexer": "ipython3",
   "version": "3.9.18"
  }
 },
 "nbformat": 4,
 "nbformat_minor": 2
}
